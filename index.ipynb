{
 "cells": [
  {
   "cell_type": "code",
   "execution_count": 41,
   "metadata": {},
   "outputs": [],
   "source": [
    "from dotenv import load_dotenv\n",
    "import os\n",
    "\n",
    "load_dotenv()\n",
    "api_key = os.getenv('API_KEY')"
   ]
  },
  {
   "cell_type": "code",
   "execution_count": 42,
   "metadata": {},
   "outputs": [],
   "source": [
    "import google.generativeai as genai\n",
    "import pandas as pd"
   ]
  },
  {
   "cell_type": "code",
   "execution_count": 43,
   "metadata": {},
   "outputs": [],
   "source": [
    "os.environ['API_KEY'] = api_key\n",
    "genai.configure(api_key=os.environ['API_KEY'])"
   ]
  },
  {
   "cell_type": "code",
   "execution_count": null,
   "metadata": {},
   "outputs": [],
   "source": [
    "model = genai.GenerativeModel('gemini-1.5-flash')\n",
    "chat = model.start_chat(\n",
    "        history=[\n",
    "\n",
    "        ]\n",
    "    )\n",
    "\n",
    "def get_financial_advice(prompt, model='gemini-1.5-flash', **kwargs):\n",
    "    chat.send_message(prompt, stream=True)\n",
    "\n",
    "    generation_config = {\n",
    "    'temperature': 0.8,\n",
    "    'max_output_tokens': 200\n",
    "    }\n",
    "\n",
    "    generation_config.update(kwargs)\n",
    "    response = model.generate_content(prompt, generation_config=generation_config)\n",
    "    \n",
    "    return response.text"
   ]
  },
  {
   "cell_type": "code",
   "execution_count": null,
   "metadata": {},
   "outputs": [
    {
     "name": "stdout",
     "output_type": "stream",
     "text": [
      "Financial advice based on prompt: I need help with my finances\n",
      "Financial advice based on prompt: What recommendations for debt resolution do you have?\n",
      "Thank you for using the financial support service!\n"
     ]
    }
   ],
   "source": [
    "\n",
    "\n",
    "\n",
    "\n",
    "def get_financial_advice(prompt, temperature=0.5, max_output_tokens=1000):\n",
    "    # This is a placeholder for the actual function that would fetch financial advice.\n",
    "    return f\"Financial advice based on prompt: {prompt}\"\n",
    "\n",
    "def main():\n",
    "    prompt = input(\"What kind of financial support do you need? \")\n",
    "    if not prompt:\n",
    "        prompt = \"Give me a starting point for my finances.\"\n",
    "    \n",
    "    response = get_financial_advice(prompt)\n",
    "    print(response)\n",
    "    \n",
    "    while True:\n",
    "        ask_another = input(\"Would you like to ask another question? (Yes/No): \").strip().lower()\n",
    "        if ask_another != \"yes\":\n",
    "            print(\"Thank you for using the financial support service!\")\n",
    "            break\n",
    "        \n",
    "        prompt = input(\"What other financial support do you need? \")\n",
    "        response = get_financial_advice(prompt)\n",
    "        print(response)\n",
    "\n",
    "if __name__ == \"__main__\":\n",
    "    main()"
   ]
  }
 ],
 "metadata": {
  "kernelspec": {
   "display_name": "venv",
   "language": "python",
   "name": "python3"
  },
  "language_info": {
   "codemirror_mode": {
    "name": "ipython",
    "version": 3
   },
   "file_extension": ".py",
   "mimetype": "text/x-python",
   "name": "python",
   "nbconvert_exporter": "python",
   "pygments_lexer": "ipython3",
   "version": "3.12.7"
  }
 },
 "nbformat": 4,
 "nbformat_minor": 2
}
