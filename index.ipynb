{
 "cells": [
  {
   "cell_type": "code",
   "execution_count": 50,
   "metadata": {},
   "outputs": [],
   "source": [
    "from dotenv import load_dotenv\n",
    "import os\n",
    "\n",
    "load_dotenv()\n",
    "api_key = os.getenv('API_KEY')"
   ]
  },
  {
   "cell_type": "code",
   "execution_count": 51,
   "metadata": {},
   "outputs": [],
   "source": [
    "import google.generativeai as genai\n",
    "import pandas as pd"
   ]
  },
  {
   "cell_type": "code",
   "execution_count": 52,
   "metadata": {},
   "outputs": [],
   "source": [
    "os.environ['API_KEY'] = api_key\n",
    "genai.configure(api_key=os.environ['API_KEY'])"
   ]
  },
  {
   "cell_type": "code",
   "execution_count": 53,
   "metadata": {},
   "outputs": [],
   "source": [
    "model = genai.GenerativeModel('gemini-1.5-flash')\n",
    "chat = model.start_chat(\n",
    "        history=[\n",
    "\n",
    "        ]\n",
    "    )\n",
    "\n",
    "def get_financial_advice(prompt, model='gemini-1.5-flash', **kwargs):\n",
    "    chat.send_message(prompt, stream=True)\n",
    "\n",
    "    generation_config = {\n",
    "    'temperature': 0.8,\n",
    "    'max_output_tokens': 200\n",
    "    }\n",
    "\n",
    "    generation_config.update(kwargs)\n",
    "    response = model.generate_content(prompt, generation_config=generation_config)\n",
    "    \n",
    "    return response.text"
   ]
  },
  {
   "cell_type": "code",
   "execution_count": 56,
   "metadata": {},
   "outputs": [
    {
     "name": "stdout",
     "output_type": "stream",
     "text": [
      "Welcome to the financial support service!\n",
      "Financial advice: Automate your savings to make it easier to stay consistent with your financial goals.\n",
      "Financial advice: A financial advisor can help you tailor a plan specific to your income and goals.\n",
      "Thank you for using the financial support service!\n"
     ]
    }
   ],
   "source": [
    "\n",
    "\n",
    "\n",
    "\n",
    "import random\n",
    "\n",
    "def get_financial_advice(prompt, temperature=0.5, max_output_tokens=1000):\n",
    "    \"\"\"Fetches financial advice based on the user's prompt.\n",
    "    \n",
    "    Args:\n",
    "        prompt (str): The financial query or request from the user.\n",
    "        temperature (float): Controls response variability (default: 0.5).\n",
    "        max_output_tokens (int): Limits response length (default: 1000).\n",
    "        \n",
    "    Returns:\n",
    "        str: Financial advice tailored to the user's prompt.\n",
    "    \"\"\"\n",
    "    # Sample responses based on common topics in financial advice\n",
    "    advice_bank = {\n",
    "        \"invest\": [\n",
    "            \"Consider diversifying your portfolio with a mix of stocks and bonds.\",\n",
    "            \"Investing in index funds can be a low-risk way to grow your wealth over time.\"\n",
    "        ],\n",
    "        \"save\": [\n",
    "            \"Setting aside a portion of your income each month in a high-yield savings account can help build an emergency fund.\",\n",
    "            \"Automate your savings to make it easier to stay consistent with your financial goals.\"\n",
    "        ],\n",
    "        \"debt\": [\n",
    "            \"Focus on paying off high-interest debt first to reduce the total amount of interest paid.\",\n",
    "            \"Consider consolidating your debts if you're struggling to keep track of multiple payments.\"\n",
    "        ],\n",
    "        \"default\": [\n",
    "            \"To get started, track your monthly expenses to see where your money goes.\",\n",
    "            \"A financial advisor can help you tailor a plan specific to your income and goals.\"\n",
    "        ]\n",
    "    }\n",
    "    \n",
    "    # Check keywords in the prompt to select advice type\n",
    "    lower_prompt = prompt.lower()\n",
    "    if \"invest\" in lower_prompt:\n",
    "        advice = random.choice(advice_bank[\"invest\"])\n",
    "    elif \"save\" in lower_prompt:\n",
    "        advice = random.choice(advice_bank[\"save\"])\n",
    "    elif \"debt\" in lower_prompt:\n",
    "        advice = random.choice(advice_bank[\"debt\"])\n",
    "    else:\n",
    "        advice = random.choice(advice_bank[\"default\"])\n",
    "    \n",
    "    return f\"Financial advice: {advice}\"\n",
    "\n",
    "def main():\n",
    "    print(\"Welcome to the financial support service!\")\n",
    "    \n",
    "    # Initial prompt from the user\n",
    "    prompt = input(\"What kind of financial support do you need? \").strip()\n",
    "    if not prompt:\n",
    "        prompt = \"Provide a starting point for managing my finances.\"\n",
    "    \n",
    "    # Fetch and display the initial financial advice\n",
    "    response = get_financial_advice(prompt)\n",
    "    print(response)\n",
    "    \n",
    "    # Loop for additional queries\n",
    "    while True:\n",
    "        ask_another = input(\"Would you like to ask another question? (Yes/No): \").strip().lower()\n",
    "        if ask_another != \"yes\":\n",
    "            print(\"Thank you for using the financial support service!\")\n",
    "            break\n",
    "        \n",
    "        # Prompt for the next question\n",
    "        prompt = input(\"What other financial support do you need? \").strip()\n",
    "        response = get_financial_advice(prompt)\n",
    "        print(response)\n",
    "\n",
    "if __name__ == \"__main__\":\n",
    "    main()\n"
   ]
  }
 ],
 "metadata": {
  "kernelspec": {
   "display_name": "venv",
   "language": "python",
   "name": "python3"
  },
  "language_info": {
   "codemirror_mode": {
    "name": "ipython",
    "version": 3
   },
   "file_extension": ".py",
   "mimetype": "text/x-python",
   "name": "python",
   "nbconvert_exporter": "python",
   "pygments_lexer": "ipython3",
   "version": "3.12.7"
  }
 },
 "nbformat": 4,
 "nbformat_minor": 2
}
